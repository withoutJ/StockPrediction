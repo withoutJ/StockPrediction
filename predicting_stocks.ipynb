{
  "nbformat": 4,
  "nbformat_minor": 0,
  "metadata": {
    "colab": {
      "name": "predicting_stocks.ipynb",
      "provenance": [],
      "collapsed_sections": [],
      "authorship_tag": "ABX9TyOEvGav/2N6ML6y13+FOr+a"
    },
    "kernelspec": {
      "display_name": "Python 3",
      "name": "python3"
    },
    "language_info": {
      "name": "python"
    },
    "accelerator": "GPU"
  },
  "cells": [
    {
      "cell_type": "code",
      "metadata": {
        "id": "UnkEthNbCkT7"
      },
      "source": [
        "# !pip install --upgrade pandas_datareader\n",
        "# !pip install --upgrade numpy"
      ],
      "execution_count": null,
      "outputs": []
    },
    {
      "cell_type": "code",
      "metadata": {
        "id": "AQPEH6tbDFC0"
      },
      "source": [
        "import math\n",
        "import pandas as pd\n",
        "import pandas_datareader as web\n",
        "import numpy as np\n",
        "import tensorflow as tf\n",
        "from tensorflow.keras.optimizers import Adam\n",
        "from tensorflow.keras import layers, models\n",
        "from tensorflow.keras.layers import *\n",
        "from tensorflow.keras import backend as K\n",
        "from tensorflow.keras.models import *\n",
        "from sklearn.preprocessing import MinMaxScaler\n",
        "import matplotlib.pyplot as plt\n",
        "from datetime import datetime"
      ],
      "execution_count": null,
      "outputs": []
    },
    {
      "cell_type": "code",
      "metadata": {
        "id": "RkjJ7vK7DMZ7"
      },
      "source": [
        "seq_len = 10"
      ],
      "execution_count": null,
      "outputs": []
    },
    {
      "cell_type": "code",
      "metadata": {
        "id": "qX0I58TjDIp4"
      },
      "source": [
        "companies_idx = [ 'AAPL', 'MSFT', 'AMZN', 'GOOG', 'GOOGL', 'FB', 'TSLA', 'V', 'JPM', 'JNJ', 'WMT', 'NVDA', 'PYPL', 'MA', 'DIS', 'PG', 'UNH', 'HD', 'BAC', 'INTC', 'NFLX', 'CMCSA', 'ADBE', 'CRM', 'ABT', 'VZ', 'NKE', 'XOM', 'KO', 'T', 'AVGO', 'TMO', 'LLY', 'CSCO', 'PFE', 'MRK', 'PEP', 'ABBV', 'ORCL', 'CVX', 'DHR', 'ACN', 'QCOM', 'TXN', 'MDT', 'MCD', 'NEE', 'COST', 'TMUS', 'WFC', 'UNP', 'HON', 'UPS', 'MS', 'AMGN', 'PM', 'C', 'BMY', 'LIN', 'LOW', 'BA', 'SBUX', 'CHTR', 'INTU', 'NOW', 'SCHW', 'BLK', 'AMD', 'RTX', 'CAT', 'AMAT', 'GS', 'EL', 'IBM', 'AXP', 'GE', 'MMM', 'AMT', 'DE', 'MU', 'TGT', 'LMT', 'SYK', 'ISRG', 'CVS', 'BKNG', 'LRCX', 'FIS', 'SPGI', 'GILD', 'TJX', 'MO', 'ATVI', 'ZTS', 'PLD', 'MDLZ', 'GM', 'TFC', 'BDX']\n",
        "no_companies = len(companies_idx)\n",
        "no_companies_train = math.ceil(no_companies*0.8)"
      ],
      "execution_count": null,
      "outputs": []
    },
    {
      "cell_type": "code",
      "metadata": {
        "id": "E8qFJavDDcgc"
      },
      "source": [
        "list_companies = []\n",
        "test = []\n",
        "x = np.array([[]])\n",
        "first_date = datetime.now()\n",
        "time_test = []\n",
        "time_train = []"
      ],
      "execution_count": null,
      "outputs": []
    },
    {
      "cell_type": "code",
      "metadata": {
        "id": "umpJmlHBDOMa",
        "colab": {
          "base_uri": "https://localhost:8080/",
          "height": 583
        },
        "outputId": "a4449820-5bc3-4920-ed3f-2fd162caea61"
      },
      "source": [
        "i = 1\n",
        "for idx in companies_idx:\n",
        "  stock_df = web.DataReader(idx, data_source='yahoo', start='1980-01-01', end='2021-05-20')\n",
        "  stock = stock_df['Close']\n",
        "  first_date = min(first_date, stock.index[0])\n",
        "  stock_np = np.array(stock)\n",
        "  stock_np = np.reshape(stock_np, (len(stock_np), 1))\n",
        "  if i<=7:\n",
        "    test.append(stock_np)\n",
        "    time_test.append(stock.index)\n",
        "  else:\n",
        "    list_companies.append(stock_np)\n",
        "    time_train.append(stock.index)\n",
        "  i+=1"
      ],
      "execution_count": null,
      "outputs": [
        {
          "output_type": "error",
          "ename": "RemoteDataError",
          "evalue": "ignored",
          "traceback": [
            "\u001b[0;31m---------------------------------------------------------------------------\u001b[0m",
            "\u001b[0;31mRemoteDataError\u001b[0m                           Traceback (most recent call last)",
            "\u001b[0;32m<ipython-input-6-ed7fd2fbb559>\u001b[0m in \u001b[0;36m<module>\u001b[0;34m()\u001b[0m\n\u001b[1;32m      1\u001b[0m \u001b[0mi\u001b[0m \u001b[0;34m=\u001b[0m \u001b[0;36m1\u001b[0m\u001b[0;34m\u001b[0m\u001b[0;34m\u001b[0m\u001b[0m\n\u001b[1;32m      2\u001b[0m \u001b[0;32mfor\u001b[0m \u001b[0midx\u001b[0m \u001b[0;32min\u001b[0m \u001b[0mcompanies_idx\u001b[0m\u001b[0;34m:\u001b[0m\u001b[0;34m\u001b[0m\u001b[0;34m\u001b[0m\u001b[0m\n\u001b[0;32m----> 3\u001b[0;31m   \u001b[0mstock_df\u001b[0m \u001b[0;34m=\u001b[0m \u001b[0mweb\u001b[0m\u001b[0;34m.\u001b[0m\u001b[0mDataReader\u001b[0m\u001b[0;34m(\u001b[0m\u001b[0midx\u001b[0m\u001b[0;34m,\u001b[0m \u001b[0mdata_source\u001b[0m\u001b[0;34m=\u001b[0m\u001b[0;34m'yahoo'\u001b[0m\u001b[0;34m,\u001b[0m \u001b[0mstart\u001b[0m\u001b[0;34m=\u001b[0m\u001b[0;34m'1980-01-01'\u001b[0m\u001b[0;34m,\u001b[0m \u001b[0mend\u001b[0m\u001b[0;34m=\u001b[0m\u001b[0;34m'2021-05-20'\u001b[0m\u001b[0;34m)\u001b[0m\u001b[0;34m\u001b[0m\u001b[0;34m\u001b[0m\u001b[0m\n\u001b[0m\u001b[1;32m      4\u001b[0m   \u001b[0mstock\u001b[0m \u001b[0;34m=\u001b[0m \u001b[0mstock_df\u001b[0m\u001b[0;34m[\u001b[0m\u001b[0;34m'Close'\u001b[0m\u001b[0;34m]\u001b[0m\u001b[0;34m\u001b[0m\u001b[0;34m\u001b[0m\u001b[0m\n\u001b[1;32m      5\u001b[0m   \u001b[0mfirst_date\u001b[0m \u001b[0;34m=\u001b[0m \u001b[0mmin\u001b[0m\u001b[0;34m(\u001b[0m\u001b[0mfirst_date\u001b[0m\u001b[0;34m,\u001b[0m \u001b[0mstock\u001b[0m\u001b[0;34m.\u001b[0m\u001b[0mindex\u001b[0m\u001b[0;34m[\u001b[0m\u001b[0;36m0\u001b[0m\u001b[0;34m]\u001b[0m\u001b[0;34m)\u001b[0m\u001b[0;34m\u001b[0m\u001b[0;34m\u001b[0m\u001b[0m\n",
            "\u001b[0;32m/usr/local/lib/python3.7/dist-packages/pandas/util/_decorators.py\u001b[0m in \u001b[0;36mwrapper\u001b[0;34m(*args, **kwargs)\u001b[0m\n\u001b[1;32m    197\u001b[0m                 \u001b[0;32melse\u001b[0m\u001b[0;34m:\u001b[0m\u001b[0;34m\u001b[0m\u001b[0;34m\u001b[0m\u001b[0m\n\u001b[1;32m    198\u001b[0m                     \u001b[0mkwargs\u001b[0m\u001b[0;34m[\u001b[0m\u001b[0mnew_arg_name\u001b[0m\u001b[0;34m]\u001b[0m \u001b[0;34m=\u001b[0m \u001b[0mnew_arg_value\u001b[0m\u001b[0;34m\u001b[0m\u001b[0;34m\u001b[0m\u001b[0m\n\u001b[0;32m--> 199\u001b[0;31m             \u001b[0;32mreturn\u001b[0m \u001b[0mfunc\u001b[0m\u001b[0;34m(\u001b[0m\u001b[0;34m*\u001b[0m\u001b[0margs\u001b[0m\u001b[0;34m,\u001b[0m \u001b[0;34m**\u001b[0m\u001b[0mkwargs\u001b[0m\u001b[0;34m)\u001b[0m\u001b[0;34m\u001b[0m\u001b[0;34m\u001b[0m\u001b[0m\n\u001b[0m\u001b[1;32m    200\u001b[0m \u001b[0;34m\u001b[0m\u001b[0m\n\u001b[1;32m    201\u001b[0m         \u001b[0;32mreturn\u001b[0m \u001b[0mcast\u001b[0m\u001b[0;34m(\u001b[0m\u001b[0mF\u001b[0m\u001b[0;34m,\u001b[0m \u001b[0mwrapper\u001b[0m\u001b[0;34m)\u001b[0m\u001b[0;34m\u001b[0m\u001b[0;34m\u001b[0m\u001b[0m\n",
            "\u001b[0;32m/usr/local/lib/python3.7/dist-packages/pandas_datareader/data.py\u001b[0m in \u001b[0;36mDataReader\u001b[0;34m(name, data_source, start, end, retry_count, pause, session, api_key)\u001b[0m\n\u001b[1;32m    382\u001b[0m             \u001b[0mretry_count\u001b[0m\u001b[0;34m=\u001b[0m\u001b[0mretry_count\u001b[0m\u001b[0;34m,\u001b[0m\u001b[0;34m\u001b[0m\u001b[0;34m\u001b[0m\u001b[0m\n\u001b[1;32m    383\u001b[0m             \u001b[0mpause\u001b[0m\u001b[0;34m=\u001b[0m\u001b[0mpause\u001b[0m\u001b[0;34m,\u001b[0m\u001b[0;34m\u001b[0m\u001b[0;34m\u001b[0m\u001b[0m\n\u001b[0;32m--> 384\u001b[0;31m             \u001b[0msession\u001b[0m\u001b[0;34m=\u001b[0m\u001b[0msession\u001b[0m\u001b[0;34m,\u001b[0m\u001b[0;34m\u001b[0m\u001b[0;34m\u001b[0m\u001b[0m\n\u001b[0m\u001b[1;32m    385\u001b[0m         ).read()\n\u001b[1;32m    386\u001b[0m \u001b[0;34m\u001b[0m\u001b[0m\n",
            "\u001b[0;32m/usr/local/lib/python3.7/dist-packages/pandas_datareader/base.py\u001b[0m in \u001b[0;36mread\u001b[0;34m(self)\u001b[0m\n\u001b[1;32m    251\u001b[0m         \u001b[0;31m# If a single symbol, (e.g., 'GOOG')\u001b[0m\u001b[0;34m\u001b[0m\u001b[0;34m\u001b[0m\u001b[0;34m\u001b[0m\u001b[0m\n\u001b[1;32m    252\u001b[0m         \u001b[0;32mif\u001b[0m \u001b[0misinstance\u001b[0m\u001b[0;34m(\u001b[0m\u001b[0mself\u001b[0m\u001b[0;34m.\u001b[0m\u001b[0msymbols\u001b[0m\u001b[0;34m,\u001b[0m \u001b[0;34m(\u001b[0m\u001b[0mstring_types\u001b[0m\u001b[0;34m,\u001b[0m \u001b[0mint\u001b[0m\u001b[0;34m)\u001b[0m\u001b[0;34m)\u001b[0m\u001b[0;34m:\u001b[0m\u001b[0;34m\u001b[0m\u001b[0;34m\u001b[0m\u001b[0m\n\u001b[0;32m--> 253\u001b[0;31m             \u001b[0mdf\u001b[0m \u001b[0;34m=\u001b[0m \u001b[0mself\u001b[0m\u001b[0;34m.\u001b[0m\u001b[0m_read_one_data\u001b[0m\u001b[0;34m(\u001b[0m\u001b[0mself\u001b[0m\u001b[0;34m.\u001b[0m\u001b[0murl\u001b[0m\u001b[0;34m,\u001b[0m \u001b[0mparams\u001b[0m\u001b[0;34m=\u001b[0m\u001b[0mself\u001b[0m\u001b[0;34m.\u001b[0m\u001b[0m_get_params\u001b[0m\u001b[0;34m(\u001b[0m\u001b[0mself\u001b[0m\u001b[0;34m.\u001b[0m\u001b[0msymbols\u001b[0m\u001b[0;34m)\u001b[0m\u001b[0;34m)\u001b[0m\u001b[0;34m\u001b[0m\u001b[0;34m\u001b[0m\u001b[0m\n\u001b[0m\u001b[1;32m    254\u001b[0m         \u001b[0;31m# Or multiple symbols, (e.g., ['GOOG', 'AAPL', 'MSFT'])\u001b[0m\u001b[0;34m\u001b[0m\u001b[0;34m\u001b[0m\u001b[0;34m\u001b[0m\u001b[0m\n\u001b[1;32m    255\u001b[0m         \u001b[0;32melif\u001b[0m \u001b[0misinstance\u001b[0m\u001b[0;34m(\u001b[0m\u001b[0mself\u001b[0m\u001b[0;34m.\u001b[0m\u001b[0msymbols\u001b[0m\u001b[0;34m,\u001b[0m \u001b[0mDataFrame\u001b[0m\u001b[0;34m)\u001b[0m\u001b[0;34m:\u001b[0m\u001b[0;34m\u001b[0m\u001b[0;34m\u001b[0m\u001b[0m\n",
            "\u001b[0;32m/usr/local/lib/python3.7/dist-packages/pandas_datareader/yahoo/daily.py\u001b[0m in \u001b[0;36m_read_one_data\u001b[0;34m(self, url, params)\u001b[0m\n\u001b[1;32m    151\u001b[0m         \u001b[0murl\u001b[0m \u001b[0;34m=\u001b[0m \u001b[0murl\u001b[0m\u001b[0;34m.\u001b[0m\u001b[0mformat\u001b[0m\u001b[0;34m(\u001b[0m\u001b[0msymbol\u001b[0m\u001b[0;34m)\u001b[0m\u001b[0;34m\u001b[0m\u001b[0;34m\u001b[0m\u001b[0m\n\u001b[1;32m    152\u001b[0m \u001b[0;34m\u001b[0m\u001b[0m\n\u001b[0;32m--> 153\u001b[0;31m         \u001b[0mresp\u001b[0m \u001b[0;34m=\u001b[0m \u001b[0mself\u001b[0m\u001b[0;34m.\u001b[0m\u001b[0m_get_response\u001b[0m\u001b[0;34m(\u001b[0m\u001b[0murl\u001b[0m\u001b[0;34m,\u001b[0m \u001b[0mparams\u001b[0m\u001b[0;34m=\u001b[0m\u001b[0mparams\u001b[0m\u001b[0;34m)\u001b[0m\u001b[0;34m\u001b[0m\u001b[0;34m\u001b[0m\u001b[0m\n\u001b[0m\u001b[1;32m    154\u001b[0m         \u001b[0mptrn\u001b[0m \u001b[0;34m=\u001b[0m \u001b[0;34mr\"root\\.App\\.main = (.*?);\\n}\\(this\\)\\);\"\u001b[0m\u001b[0;34m\u001b[0m\u001b[0;34m\u001b[0m\u001b[0m\n\u001b[1;32m    155\u001b[0m         \u001b[0;32mtry\u001b[0m\u001b[0;34m:\u001b[0m\u001b[0;34m\u001b[0m\u001b[0;34m\u001b[0m\u001b[0m\n",
            "\u001b[0;32m/usr/local/lib/python3.7/dist-packages/pandas_datareader/base.py\u001b[0m in \u001b[0;36m_get_response\u001b[0;34m(self, url, params, headers)\u001b[0m\n\u001b[1;32m    179\u001b[0m             \u001b[0mmsg\u001b[0m \u001b[0;34m+=\u001b[0m \u001b[0;34m\"\\nResponse Text:\\n{0}\"\u001b[0m\u001b[0;34m.\u001b[0m\u001b[0mformat\u001b[0m\u001b[0;34m(\u001b[0m\u001b[0mlast_response_text\u001b[0m\u001b[0;34m)\u001b[0m\u001b[0;34m\u001b[0m\u001b[0;34m\u001b[0m\u001b[0m\n\u001b[1;32m    180\u001b[0m \u001b[0;34m\u001b[0m\u001b[0m\n\u001b[0;32m--> 181\u001b[0;31m         \u001b[0;32mraise\u001b[0m \u001b[0mRemoteDataError\u001b[0m\u001b[0;34m(\u001b[0m\u001b[0mmsg\u001b[0m\u001b[0;34m)\u001b[0m\u001b[0;34m\u001b[0m\u001b[0;34m\u001b[0m\u001b[0m\n\u001b[0m\u001b[1;32m    182\u001b[0m \u001b[0;34m\u001b[0m\u001b[0m\n\u001b[1;32m    183\u001b[0m     \u001b[0;32mdef\u001b[0m \u001b[0m_get_crumb\u001b[0m\u001b[0;34m(\u001b[0m\u001b[0mself\u001b[0m\u001b[0;34m,\u001b[0m \u001b[0;34m*\u001b[0m\u001b[0margs\u001b[0m\u001b[0;34m)\u001b[0m\u001b[0;34m:\u001b[0m\u001b[0;34m\u001b[0m\u001b[0;34m\u001b[0m\u001b[0m\n",
            "\u001b[0;31mRemoteDataError\u001b[0m: Unable to read URL: https://finance.yahoo.com/quote/AAPL/history?period1=315547200&period2=1621569599&interval=1d&frequency=1d&filter=history\nResponse Text:\nb'<!DOCTYPE html>\\n  <html lang=\"en-us\"><head>\\n  <meta http-equiv=\"content-type\" content=\"text/html; charset=UTF-8\">\\n      <meta charset=\"utf-8\">\\n      <title>Yahoo</title>\\n      <meta name=\"viewport\" content=\"width=device-width,initial-scale=1,minimal-ui\">\\n      <meta http-equiv=\"X-UA-Compatible\" content=\"IE=edge,chrome=1\">\\n      <style>\\n  html {\\n      height: 100%;\\n  }\\n  body {\\n      background: #fafafc url(https://s.yimg.com/nn/img/sad-panda-201402200631.png) 50% 50%;\\n      background-size: cover;\\n      height: 100%;\\n      text-align: center;\\n      font: 300 18px \"helvetica neue\", helvetica, verdana, tahoma, arial, sans-serif;\\n  }\\n  table {\\n      height: 100%;\\n      width: 100%;\\n      table-layout: fixed;\\n      border-collapse: collapse;\\n      border-spacing: 0;\\n      border: none;\\n  }\\n  h1 {\\n      font-size: 42px;\\n      font-weight: 400;\\n      color: #400090;\\n  }\\n  p {\\n      color: #1A1A1A;\\n  }\\n  #message-1 {\\n      font-weight: bold;\\n      margin: 0;\\n  }\\n  #message-2 {\\n      display: inline-block;\\n      *display: inline;\\n      zoom: 1;\\n      max-width: 17em;\\n      _width: 17em;\\n  }\\n      </style>\\n  <script>\\n    document.write(\\'<img src=\"//geo.yahoo.com/b?s=1197757129&t=\\'+new Date().getTime()+\\'&src=aws&err_url=\\'+encodeURIComponent(document.URL)+\\'&err=%<pssc>&test=\\'+encodeURIComponent(\\'%<{Bucket}cqh[:200]>\\')+\\'\" width=\"0px\" height=\"0px\"/>\\');var beacon = new Image();beacon.src=\"//bcn.fp.yahoo.com/p?s=1197757129&t=\"+ne..."
          ]
        }
      ]
    },
    {
      "cell_type": "code",
      "metadata": {
        "id": "Lw-01Kz4aktv"
      },
      "source": [
        "for i in range(no_companies):\n",
        "  if i>=7:\n",
        "    time_train[i-7]=time_train[i-7]-first_date\n",
        "    time_train[i-7] = time_train[i-7].days\n",
        "    time_train[i-7] = np.array(time_train[i-7])\n",
        "  else:\n",
        "    time_test[i] = time_test[i]-first_date\n",
        "    time_test[i] = time_test[i].days\n",
        "    time_test[i] = np.array(time_test[i])"
      ],
      "execution_count": null,
      "outputs": []
    },
    {
      "cell_type": "code",
      "metadata": {
        "id": "Cpe7mzdpcEVB"
      },
      "source": [
        "# x = np.reshape(x, (len(x),1))"
      ],
      "execution_count": null,
      "outputs": []
    },
    {
      "cell_type": "code",
      "metadata": {
        "id": "IlGmj_2NIEBp"
      },
      "source": [
        "Xtrain = []\n",
        "Ytrain = []\n",
        "Xtrain_time = []\n",
        "br = 0\n",
        "for stck, day in zip(list_companies,time_train):\n",
        "  for i in range(seq_len,len(stck)):\n",
        "    Xtrain_time.append(day[i-seq_len:i])\n",
        "    Xtrain.append((stck[i-seq_len:i]-stck[i-1])/stck[i-1])\n",
        "    Ytrain.append((stck[i]-stck[i-1])/stck[i-1])\n",
        "  br+=1\n"
      ],
      "execution_count": null,
      "outputs": []
    },
    {
      "cell_type": "code",
      "metadata": {
        "id": "LfzwVVLpLcz3"
      },
      "source": [
        "Xtrain_time = np.array(Xtrain_time)\n",
        "Xtrain_time = np.reshape(Xtrain_time, (Xtrain_time.shape[0], Xtrain_time.shape[1], 1))\n",
        "\n",
        "Xtrain = np.array(Xtrain)\n",
        "Ytrain = np.array(Ytrain)"
      ],
      "execution_count": null,
      "outputs": []
    },
    {
      "cell_type": "code",
      "metadata": {
        "id": "hV_iBY-OWNpt"
      },
      "source": [
        "print(Xtrain.shape)"
      ],
      "execution_count": null,
      "outputs": []
    },
    {
      "cell_type": "code",
      "metadata": {
        "id": "TbNw9u68LeQt"
      },
      "source": [
        "#CNN MODEL\n",
        "\n",
        "# model = models.Sequential()\n",
        "\n",
        "# model.add(layers.Conv1D(64, 3, activation='relu', input_shape=(Xtrain.shape[1], 1)))\n",
        "# model.add(layers.MaxPooling1D(pool_size=2))\n",
        "\n",
        "# model.add(layers.Flatten())\n",
        "\n",
        "\n",
        "# model.add(layers.Dense(32))\n",
        "# model.add(layers.Dense(1))\n",
        "\n",
        "# print(model.summary())"
      ],
      "execution_count": null,
      "outputs": []
    },
    {
      "cell_type": "code",
      "metadata": {
        "id": "qROq80iEFadM"
      },
      "source": [
        "#LSTM MODEL\n",
        "\n",
        "# model = models.Sequential()\n",
        "\n",
        "# model.add(layers.LSTM(20, return_sequences=True, input_shape=(Xtrain.shape[1], 1)))\n",
        "# model.add(layers.LSTM(20))\n",
        "\n",
        "# model.add(layers.Dense(32))\n",
        "# model.add(layers.Dense(1))\n",
        "\n",
        "# print(model.summary())"
      ],
      "execution_count": null,
      "outputs": []
    },
    {
      "cell_type": "code",
      "metadata": {
        "id": "yGQN1V7BdswO"
      },
      "source": [
        "#CNN+LSTM MODEL\n",
        "\n",
        "# model = models.Sequential()\n",
        "\n",
        "# units = 20\n",
        "\n",
        "# model.add(layers.Conv1D(32, 3, activation='relu', input_shape=(Xtrain.shape[1],1)))\n",
        "# model.add(layers.MaxPooling1D(pool_size=2))\n",
        "\n",
        "\n",
        "# model.add(tf.keras.layers.Reshape((model.output_shape[1]*model.output_shape[2],1)))\n",
        "\n",
        "# print(model.output_shape)\n",
        "\n",
        "# model.add(layers.LSTM(units, return_sequences=False, input_shape= (model.output_shape[1], 1)))\n",
        "# #model.add(LSTM(units, return_sequences=True))\n",
        "\n",
        "\n",
        "# model.add(layers.Dense(32))\n",
        "# model.add(layers.Dense(1))\n",
        "\n",
        "# print(model.summary())"
      ],
      "execution_count": null,
      "outputs": []
    },
    {
      "cell_type": "code",
      "metadata": {
        "id": "0u__hW4ZLijp"
      },
      "source": [
        "class Time2Vec(Layer):\n",
        "    def __init__(self, vec_size):\n",
        "        super(Time2Vec, self).__init__()\n",
        "        self.vec_size = vec_size \n",
        "    \n",
        "    def build(self, input_shape):\n",
        "        self.w_linear = self.add_weight(\n",
        "            shape=(1, 1),\n",
        "            initializer='uniform',\n",
        "            trainable=True\n",
        "        )\n",
        "        \n",
        "        self.b_linear = self.add_weight(\n",
        "            shape=(1, 1),\n",
        "            initializer='uniform',\n",
        "            trainable=True\n",
        "        )\n",
        "\n",
        "        self.w_periodic = self.add_weight(\n",
        "            shape=(1, self.vec_size),\n",
        "            initializer='uniform',\n",
        "            trainable=True\n",
        "        )\n",
        "        \n",
        "        self.b_periodic = self.add_weight(\n",
        "            shape=(1, self.vec_size),\n",
        "            initializer='uniform',\n",
        "            trainable=True\n",
        "        )\n",
        "        \n",
        "        super(Time2Vec, self).build(input_shape)\n",
        "    \n",
        "    def call(self, inputs, **kwargs):\n",
        "        linear = self.w_linear * inputs + self.b_linear\n",
        "        periodic = K.sin(K.dot(inputs, self.w_periodic) + self.b_periodic)\n",
        "        return K.concatenate([linear, periodic], -1)\n",
        "    \n",
        "    def compute_output_shape(self, input_shape):\n",
        "        return (input_shape[0], input_shape[1], self.vec_size + 1)\n",
        "\n",
        "def time2vec_lstm(dim, t2v_dim):\n",
        "  term = Input(shape=(dim, 1))\n",
        "  time = Input(shape=(dim, 1))\n",
        "  xti = Time2Vec(t2v_dim)(time)\n",
        "  xte1 = LSTM(10, return_sequences=True)(term) \n",
        "  xte2 = LSTM(10)(xte1)\n",
        "  x = Dense(1)(concatenate([Flatten()(xte2), Flatten()(xti)]))\n",
        "  m = Model(inputs=[time, term],outputs=x)\n",
        "  return m"
      ],
      "execution_count": null,
      "outputs": []
    },
    {
      "cell_type": "code",
      "metadata": {
        "id": "9yEPuAoxqwtS"
      },
      "source": [
        "model = time2vec_lstm(seq_len, 16)"
      ],
      "execution_count": null,
      "outputs": []
    },
    {
      "cell_type": "code",
      "metadata": {
        "id": "DtMOaq5ULo9N"
      },
      "source": [
        "opt = Adam(learning_rate=0.0001)\n",
        "model.compile(optimizer=opt, loss='mse')"
      ],
      "execution_count": null,
      "outputs": []
    },
    {
      "cell_type": "code",
      "metadata": {
        "id": "BkaNAh9cq4aI"
      },
      "source": [
        "#LSTM+Time2Vec fit \n",
        "history_data = model.fit(x = [Xtrain_time, Xtrain], y = Ytrain, batch_size=50, epochs=20, verbose=2, validation_split=0.2)"
      ],
      "execution_count": null,
      "outputs": []
    },
    {
      "cell_type": "code",
      "metadata": {
        "id": "pdwkf5ofLqs5"
      },
      "source": [
        "#history_data = model.fit(Xtrain, Ytrain, batch_size=50, epochs=10, verbose=2, validation_split=0.2)"
      ],
      "execution_count": null,
      "outputs": []
    },
    {
      "cell_type": "code",
      "metadata": {
        "id": "KVDO2c74iCOn"
      },
      "source": [
        "plt.figure(figsize=(20,10))\n",
        "plt.title('Gubitak kroz epohe')\n",
        "plt.plot(history_data.history['loss'])\n",
        "plt.plot(history_data.history['val_loss'])\n",
        "plt.ylabel('Gubitak')\n",
        "plt.xlabel('Epohe')\n",
        "plt.legend(['trening gubitak' , 'validacioni gubitak'], loc = 'upper right')\n",
        "plt.show()"
      ],
      "execution_count": null,
      "outputs": []
    },
    {
      "cell_type": "code",
      "metadata": {
        "id": "WKzAQDiWoHIl"
      },
      "source": [
        "rmse = []\n",
        "rmse_y = []"
      ],
      "execution_count": null,
      "outputs": []
    },
    {
      "cell_type": "code",
      "metadata": {
        "id": "JyUwPEhxLtdk"
      },
      "source": [
        "for stck, day in zip(test,time_test):\n",
        "  Xtest = []\n",
        "  Ytest = []\n",
        "  Xtest_time = []\n",
        "  predictions_y = []\n",
        "  for i in range(seq_len, len(stck)):\n",
        "    Xtest.append((stck[i-seq_len:i]-stck[i-1])/stck[i-1])\n",
        "    predictions_y.append(0)\n",
        "    Ytest.append((stck[i]-stck[i-1])/stck[i-1])\n",
        "    Xtest_time.append(day[i-seq_len:i])\n",
        "  Xtest = np.array(Xtest)\n",
        "  Ytest = np.array(Ytest)\n",
        "  Xtest_time = np.array(Xtest_time)\n",
        "  Xtest_time = np.reshape(Xtest_time, (Xtest_time.shape[0],Xtest_time.shape[1], 1))\n",
        "\n",
        "\n",
        "  predictions_y = np.array(predictions_y)\n",
        "  #predictions = model.predict(Xtest)\n",
        "  predictions = model.predict([Xtest_time,Xtest])\n",
        "\n",
        "  # for i in range(len(predictions)):\n",
        "  #   predictions[i] = predictions[i]*stck[i-1+seq_len]+stck[i-1+seq_len]\n",
        "  \n",
        "  rmse.append(np.sqrt(np.mean(((predictions-Ytest)**2))))\n",
        "  rmse_y.append(np.sqrt(np.mean(((predictions_y-Ytest)**2))))"
      ],
      "execution_count": null,
      "outputs": []
    },
    {
      "cell_type": "code",
      "metadata": {
        "id": "TAgHyF5LNFBs"
      },
      "source": [
        "print(rmse)\n",
        "print(rmse_y)"
      ],
      "execution_count": null,
      "outputs": []
    },
    {
      "cell_type": "code",
      "metadata": {
        "id": "e5W4U6juogTr"
      },
      "source": [
        ""
      ],
      "execution_count": null,
      "outputs": []
    }
  ]
}